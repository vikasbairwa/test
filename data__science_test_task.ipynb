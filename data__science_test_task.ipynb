{
  "nbformat": 4,
  "nbformat_minor": 0,
  "metadata": {
    "colab": {
      "name": "data _science_test_task.ipynb",
      "provenance": [],
      "collapsed_sections": [],
      "toc_visible": true,
      "authorship_tag": "ABX9TyP0XPz4rEOJtasRXN0Q6dRS",
      "include_colab_link": true
    },
    "kernelspec": {
      "name": "python3",
      "display_name": "Python 3"
    }
  },
  "cells": [
    {
      "cell_type": "markdown",
      "metadata": {
        "id": "view-in-github",
        "colab_type": "text"
      },
      "source": [
        "<a href=\"https://colab.research.google.com/github/vikasbairwa/test/blob/master/data__science_test_task.ipynb\" target=\"_parent\"><img src=\"https://colab.research.google.com/assets/colab-badge.svg\" alt=\"Open In Colab\"/></a>"
      ]
    },
    {
      "cell_type": "code",
      "metadata": {
        "id": "77DK2UPleJMy"
      },
      "source": [
        "import numpy as np\n",
        "import pandas as pd\n",
        "\n",
        "import seaborn as sns\n",
        "import matplotlib.pyplot as plt\n",
        "\n",
        "from sklearn.preprocessing import OneHotEncoder\n",
        "from sklearn.preprocessing import LabelEncoder"
      ],
      "execution_count": 1,
      "outputs": []
    },
    {
      "cell_type": "code",
      "metadata": {
        "id": "BlNlXYORessa"
      },
      "source": [
        "df = pd.read_csv(\"KAG_conversion_data.csv\")"
      ],
      "execution_count": 2,
      "outputs": []
    },
    {
      "cell_type": "code",
      "metadata": {
        "id": "FCipdKqXiNt4",
        "colab": {
          "base_uri": "https://localhost:8080/",
          "height": 359
        },
        "outputId": "2220a05c-b9d9-42d3-a9f0-a52b60bcf162"
      },
      "source": [
        "df.head(10)"
      ],
      "execution_count": null,
      "outputs": [
        {
          "output_type": "execute_result",
          "data": {
            "text/html": [
              "<div>\n",
              "<style scoped>\n",
              "    .dataframe tbody tr th:only-of-type {\n",
              "        vertical-align: middle;\n",
              "    }\n",
              "\n",
              "    .dataframe tbody tr th {\n",
              "        vertical-align: top;\n",
              "    }\n",
              "\n",
              "    .dataframe thead th {\n",
              "        text-align: right;\n",
              "    }\n",
              "</style>\n",
              "<table border=\"1\" class=\"dataframe\">\n",
              "  <thead>\n",
              "    <tr style=\"text-align: right;\">\n",
              "      <th></th>\n",
              "      <th>ad_id</th>\n",
              "      <th>xyz_campaign_id</th>\n",
              "      <th>fb_campaign_id</th>\n",
              "      <th>age</th>\n",
              "      <th>gender</th>\n",
              "      <th>interest</th>\n",
              "      <th>Impressions</th>\n",
              "      <th>Clicks</th>\n",
              "      <th>Spent</th>\n",
              "      <th>Total_Conversion</th>\n",
              "      <th>Approved_Conversion</th>\n",
              "    </tr>\n",
              "  </thead>\n",
              "  <tbody>\n",
              "    <tr>\n",
              "      <th>0</th>\n",
              "      <td>708746</td>\n",
              "      <td>916</td>\n",
              "      <td>103916</td>\n",
              "      <td>30-34</td>\n",
              "      <td>M</td>\n",
              "      <td>15</td>\n",
              "      <td>7350</td>\n",
              "      <td>1</td>\n",
              "      <td>1.43</td>\n",
              "      <td>2</td>\n",
              "      <td>1</td>\n",
              "    </tr>\n",
              "    <tr>\n",
              "      <th>1</th>\n",
              "      <td>708749</td>\n",
              "      <td>916</td>\n",
              "      <td>103917</td>\n",
              "      <td>30-34</td>\n",
              "      <td>M</td>\n",
              "      <td>16</td>\n",
              "      <td>17861</td>\n",
              "      <td>2</td>\n",
              "      <td>1.82</td>\n",
              "      <td>2</td>\n",
              "      <td>0</td>\n",
              "    </tr>\n",
              "    <tr>\n",
              "      <th>2</th>\n",
              "      <td>708771</td>\n",
              "      <td>916</td>\n",
              "      <td>103920</td>\n",
              "      <td>30-34</td>\n",
              "      <td>M</td>\n",
              "      <td>20</td>\n",
              "      <td>693</td>\n",
              "      <td>0</td>\n",
              "      <td>0.00</td>\n",
              "      <td>1</td>\n",
              "      <td>0</td>\n",
              "    </tr>\n",
              "    <tr>\n",
              "      <th>3</th>\n",
              "      <td>708815</td>\n",
              "      <td>916</td>\n",
              "      <td>103928</td>\n",
              "      <td>30-34</td>\n",
              "      <td>M</td>\n",
              "      <td>28</td>\n",
              "      <td>4259</td>\n",
              "      <td>1</td>\n",
              "      <td>1.25</td>\n",
              "      <td>1</td>\n",
              "      <td>0</td>\n",
              "    </tr>\n",
              "    <tr>\n",
              "      <th>4</th>\n",
              "      <td>708818</td>\n",
              "      <td>916</td>\n",
              "      <td>103928</td>\n",
              "      <td>30-34</td>\n",
              "      <td>M</td>\n",
              "      <td>28</td>\n",
              "      <td>4133</td>\n",
              "      <td>1</td>\n",
              "      <td>1.29</td>\n",
              "      <td>1</td>\n",
              "      <td>1</td>\n",
              "    </tr>\n",
              "    <tr>\n",
              "      <th>5</th>\n",
              "      <td>708820</td>\n",
              "      <td>916</td>\n",
              "      <td>103929</td>\n",
              "      <td>30-34</td>\n",
              "      <td>M</td>\n",
              "      <td>29</td>\n",
              "      <td>1915</td>\n",
              "      <td>0</td>\n",
              "      <td>0.00</td>\n",
              "      <td>1</td>\n",
              "      <td>1</td>\n",
              "    </tr>\n",
              "    <tr>\n",
              "      <th>6</th>\n",
              "      <td>708889</td>\n",
              "      <td>916</td>\n",
              "      <td>103940</td>\n",
              "      <td>30-34</td>\n",
              "      <td>M</td>\n",
              "      <td>15</td>\n",
              "      <td>15615</td>\n",
              "      <td>3</td>\n",
              "      <td>4.77</td>\n",
              "      <td>1</td>\n",
              "      <td>0</td>\n",
              "    </tr>\n",
              "    <tr>\n",
              "      <th>7</th>\n",
              "      <td>708895</td>\n",
              "      <td>916</td>\n",
              "      <td>103941</td>\n",
              "      <td>30-34</td>\n",
              "      <td>M</td>\n",
              "      <td>16</td>\n",
              "      <td>10951</td>\n",
              "      <td>1</td>\n",
              "      <td>1.27</td>\n",
              "      <td>1</td>\n",
              "      <td>1</td>\n",
              "    </tr>\n",
              "    <tr>\n",
              "      <th>8</th>\n",
              "      <td>708953</td>\n",
              "      <td>916</td>\n",
              "      <td>103951</td>\n",
              "      <td>30-34</td>\n",
              "      <td>M</td>\n",
              "      <td>27</td>\n",
              "      <td>2355</td>\n",
              "      <td>1</td>\n",
              "      <td>1.50</td>\n",
              "      <td>1</td>\n",
              "      <td>0</td>\n",
              "    </tr>\n",
              "    <tr>\n",
              "      <th>9</th>\n",
              "      <td>708958</td>\n",
              "      <td>916</td>\n",
              "      <td>103952</td>\n",
              "      <td>30-34</td>\n",
              "      <td>M</td>\n",
              "      <td>28</td>\n",
              "      <td>9502</td>\n",
              "      <td>3</td>\n",
              "      <td>3.16</td>\n",
              "      <td>1</td>\n",
              "      <td>0</td>\n",
              "    </tr>\n",
              "  </tbody>\n",
              "</table>\n",
              "</div>"
            ],
            "text/plain": [
              "    ad_id  xyz_campaign_id  fb_campaign_id    age gender  interest  \\\n",
              "0  708746              916          103916  30-34      M        15   \n",
              "1  708749              916          103917  30-34      M        16   \n",
              "2  708771              916          103920  30-34      M        20   \n",
              "3  708815              916          103928  30-34      M        28   \n",
              "4  708818              916          103928  30-34      M        28   \n",
              "5  708820              916          103929  30-34      M        29   \n",
              "6  708889              916          103940  30-34      M        15   \n",
              "7  708895              916          103941  30-34      M        16   \n",
              "8  708953              916          103951  30-34      M        27   \n",
              "9  708958              916          103952  30-34      M        28   \n",
              "\n",
              "   Impressions  Clicks  Spent  Total_Conversion  Approved_Conversion  \n",
              "0         7350       1   1.43                 2                    1  \n",
              "1        17861       2   1.82                 2                    0  \n",
              "2          693       0   0.00                 1                    0  \n",
              "3         4259       1   1.25                 1                    0  \n",
              "4         4133       1   1.29                 1                    1  \n",
              "5         1915       0   0.00                 1                    1  \n",
              "6        15615       3   4.77                 1                    0  \n",
              "7        10951       1   1.27                 1                    1  \n",
              "8         2355       1   1.50                 1                    0  \n",
              "9         9502       3   3.16                 1                    0  "
            ]
          },
          "metadata": {
            "tags": []
          },
          "execution_count": 3
        }
      ]
    },
    {
      "cell_type": "code",
      "metadata": {
        "colab": {
          "base_uri": "https://localhost:8080/"
        },
        "id": "PG_rGYrwKPsp",
        "outputId": "356e73ac-9880-417b-8441-fe3eacadc487"
      },
      "source": [
        "df.dtypes"
      ],
      "execution_count": null,
      "outputs": [
        {
          "output_type": "execute_result",
          "data": {
            "text/plain": [
              "xyz_campaign_id          int64\n",
              "age                     object\n",
              "gender                   int64\n",
              "interest                 int64\n",
              "Impressions              int64\n",
              "Clicks                   int64\n",
              "Spent                  float64\n",
              "Total_Conversion         int64\n",
              "Approved_Conversion      int64\n",
              "dtype: object"
            ]
          },
          "metadata": {
            "tags": []
          },
          "execution_count": 63
        }
      ]
    },
    {
      "cell_type": "code",
      "metadata": {
        "colab": {
          "base_uri": "https://localhost:8080/"
        },
        "id": "60VX8CzQKdQg",
        "outputId": "e9f55d19-7e5d-4ad1-92e4-618473ee1cbe"
      },
      "source": [
        "#no. of campaigns\n",
        "values = df['xyz_campaign_id'].unique()\n",
        "values"
      ],
      "execution_count": null,
      "outputs": [
        {
          "output_type": "execute_result",
          "data": {
            "text/plain": [
              "array([ 916,  936, 1178])"
            ]
          },
          "metadata": {
            "tags": []
          },
          "execution_count": 56
        }
      ]
    },
    {
      "cell_type": "markdown",
      "metadata": {
        "id": "jecmROWcDFFV"
      },
      "source": [
        "**There are 3 different campaigns**"
      ]
    },
    {
      "cell_type": "code",
      "metadata": {
        "colab": {
          "base_uri": "https://localhost:8080/"
        },
        "id": "YBh13uVQLQ65",
        "outputId": "c20e79b7-2490-408f-c155-c0d7467951ac"
      },
      "source": [
        "df['fb_campaign_id'].unique"
      ],
      "execution_count": null,
      "outputs": [
        {
          "output_type": "execute_result",
          "data": {
            "text/plain": [
              "<bound method Series.unique of 0       103916\n",
              "1       103917\n",
              "2       103920\n",
              "3       103928\n",
              "4       103928\n",
              "         ...  \n",
              "1138    179977\n",
              "1139    179978\n",
              "1140    179979\n",
              "1141    179981\n",
              "1142    179982\n",
              "Name: fb_campaign_id, Length: 1143, dtype: int64>"
            ]
          },
          "metadata": {
            "tags": []
          },
          "execution_count": 19
        }
      ]
    },
    {
      "cell_type": "code",
      "metadata": {
        "colab": {
          "base_uri": "https://localhost:8080/"
        },
        "id": "-66aLwfUNKsm",
        "outputId": "dde74e08-3d77-4dc1-db9f-9d359b3fbcdf"
      },
      "source": [
        "df['ad_id'].unique()"
      ],
      "execution_count": null,
      "outputs": [
        {
          "output_type": "execute_result",
          "data": {
            "text/plain": [
              "array([ 708746,  708749,  708771, ..., 1314412, 1314414, 1314415])"
            ]
          },
          "metadata": {
            "tags": []
          },
          "execution_count": 5
        }
      ]
    },
    {
      "cell_type": "markdown",
      "metadata": {
        "id": "Y-tc0sZFDhpa"
      },
      "source": [
        "**Lets take care of categorical variables in next step i.e. age and gender.**"
      ]
    },
    {
      "cell_type": "code",
      "metadata": {
        "colab": {
          "base_uri": "https://localhost:8080/",
          "height": 419
        },
        "id": "8IgVrq1eoA0G",
        "outputId": "9e7039b4-9d4b-4c6c-d19a-d5dbaf01e0f4"
      },
      "source": [
        "df = df.replace({'age': {'30-34': 'a', '35-39': 'b', '40-44' : 'c', '45-49' :'d'}, 'gender':{'M' :0, 'F' : 1}})\r\n",
        "df"
      ],
      "execution_count": 3,
      "outputs": [
        {
          "output_type": "execute_result",
          "data": {
            "text/html": [
              "<div>\n",
              "<style scoped>\n",
              "    .dataframe tbody tr th:only-of-type {\n",
              "        vertical-align: middle;\n",
              "    }\n",
              "\n",
              "    .dataframe tbody tr th {\n",
              "        vertical-align: top;\n",
              "    }\n",
              "\n",
              "    .dataframe thead th {\n",
              "        text-align: right;\n",
              "    }\n",
              "</style>\n",
              "<table border=\"1\" class=\"dataframe\">\n",
              "  <thead>\n",
              "    <tr style=\"text-align: right;\">\n",
              "      <th></th>\n",
              "      <th>ad_id</th>\n",
              "      <th>xyz_campaign_id</th>\n",
              "      <th>fb_campaign_id</th>\n",
              "      <th>age</th>\n",
              "      <th>gender</th>\n",
              "      <th>interest</th>\n",
              "      <th>Impressions</th>\n",
              "      <th>Clicks</th>\n",
              "      <th>Spent</th>\n",
              "      <th>Total_Conversion</th>\n",
              "      <th>Approved_Conversion</th>\n",
              "    </tr>\n",
              "  </thead>\n",
              "  <tbody>\n",
              "    <tr>\n",
              "      <th>0</th>\n",
              "      <td>708746</td>\n",
              "      <td>916</td>\n",
              "      <td>103916</td>\n",
              "      <td>a</td>\n",
              "      <td>0</td>\n",
              "      <td>15</td>\n",
              "      <td>7350</td>\n",
              "      <td>1</td>\n",
              "      <td>1.430000</td>\n",
              "      <td>2</td>\n",
              "      <td>1</td>\n",
              "    </tr>\n",
              "    <tr>\n",
              "      <th>1</th>\n",
              "      <td>708749</td>\n",
              "      <td>916</td>\n",
              "      <td>103917</td>\n",
              "      <td>a</td>\n",
              "      <td>0</td>\n",
              "      <td>16</td>\n",
              "      <td>17861</td>\n",
              "      <td>2</td>\n",
              "      <td>1.820000</td>\n",
              "      <td>2</td>\n",
              "      <td>0</td>\n",
              "    </tr>\n",
              "    <tr>\n",
              "      <th>2</th>\n",
              "      <td>708771</td>\n",
              "      <td>916</td>\n",
              "      <td>103920</td>\n",
              "      <td>a</td>\n",
              "      <td>0</td>\n",
              "      <td>20</td>\n",
              "      <td>693</td>\n",
              "      <td>0</td>\n",
              "      <td>0.000000</td>\n",
              "      <td>1</td>\n",
              "      <td>0</td>\n",
              "    </tr>\n",
              "    <tr>\n",
              "      <th>3</th>\n",
              "      <td>708815</td>\n",
              "      <td>916</td>\n",
              "      <td>103928</td>\n",
              "      <td>a</td>\n",
              "      <td>0</td>\n",
              "      <td>28</td>\n",
              "      <td>4259</td>\n",
              "      <td>1</td>\n",
              "      <td>1.250000</td>\n",
              "      <td>1</td>\n",
              "      <td>0</td>\n",
              "    </tr>\n",
              "    <tr>\n",
              "      <th>4</th>\n",
              "      <td>708818</td>\n",
              "      <td>916</td>\n",
              "      <td>103928</td>\n",
              "      <td>a</td>\n",
              "      <td>0</td>\n",
              "      <td>28</td>\n",
              "      <td>4133</td>\n",
              "      <td>1</td>\n",
              "      <td>1.290000</td>\n",
              "      <td>1</td>\n",
              "      <td>1</td>\n",
              "    </tr>\n",
              "    <tr>\n",
              "      <th>...</th>\n",
              "      <td>...</td>\n",
              "      <td>...</td>\n",
              "      <td>...</td>\n",
              "      <td>...</td>\n",
              "      <td>...</td>\n",
              "      <td>...</td>\n",
              "      <td>...</td>\n",
              "      <td>...</td>\n",
              "      <td>...</td>\n",
              "      <td>...</td>\n",
              "      <td>...</td>\n",
              "    </tr>\n",
              "    <tr>\n",
              "      <th>1138</th>\n",
              "      <td>1314410</td>\n",
              "      <td>1178</td>\n",
              "      <td>179977</td>\n",
              "      <td>d</td>\n",
              "      <td>1</td>\n",
              "      <td>109</td>\n",
              "      <td>1129773</td>\n",
              "      <td>252</td>\n",
              "      <td>358.189997</td>\n",
              "      <td>13</td>\n",
              "      <td>2</td>\n",
              "    </tr>\n",
              "    <tr>\n",
              "      <th>1139</th>\n",
              "      <td>1314411</td>\n",
              "      <td>1178</td>\n",
              "      <td>179978</td>\n",
              "      <td>d</td>\n",
              "      <td>1</td>\n",
              "      <td>110</td>\n",
              "      <td>637549</td>\n",
              "      <td>120</td>\n",
              "      <td>173.880003</td>\n",
              "      <td>3</td>\n",
              "      <td>0</td>\n",
              "    </tr>\n",
              "    <tr>\n",
              "      <th>1140</th>\n",
              "      <td>1314412</td>\n",
              "      <td>1178</td>\n",
              "      <td>179979</td>\n",
              "      <td>d</td>\n",
              "      <td>1</td>\n",
              "      <td>111</td>\n",
              "      <td>151531</td>\n",
              "      <td>28</td>\n",
              "      <td>40.289999</td>\n",
              "      <td>2</td>\n",
              "      <td>0</td>\n",
              "    </tr>\n",
              "    <tr>\n",
              "      <th>1141</th>\n",
              "      <td>1314414</td>\n",
              "      <td>1178</td>\n",
              "      <td>179981</td>\n",
              "      <td>d</td>\n",
              "      <td>1</td>\n",
              "      <td>113</td>\n",
              "      <td>790253</td>\n",
              "      <td>135</td>\n",
              "      <td>198.710000</td>\n",
              "      <td>8</td>\n",
              "      <td>2</td>\n",
              "    </tr>\n",
              "    <tr>\n",
              "      <th>1142</th>\n",
              "      <td>1314415</td>\n",
              "      <td>1178</td>\n",
              "      <td>179982</td>\n",
              "      <td>d</td>\n",
              "      <td>1</td>\n",
              "      <td>114</td>\n",
              "      <td>513161</td>\n",
              "      <td>114</td>\n",
              "      <td>165.609999</td>\n",
              "      <td>5</td>\n",
              "      <td>2</td>\n",
              "    </tr>\n",
              "  </tbody>\n",
              "</table>\n",
              "<p>1143 rows × 11 columns</p>\n",
              "</div>"
            ],
            "text/plain": [
              "        ad_id  xyz_campaign_id  ...  Total_Conversion Approved_Conversion\n",
              "0      708746              916  ...                 2                   1\n",
              "1      708749              916  ...                 2                   0\n",
              "2      708771              916  ...                 1                   0\n",
              "3      708815              916  ...                 1                   0\n",
              "4      708818              916  ...                 1                   1\n",
              "...       ...              ...  ...               ...                 ...\n",
              "1138  1314410             1178  ...                13                   2\n",
              "1139  1314411             1178  ...                 3                   0\n",
              "1140  1314412             1178  ...                 2                   0\n",
              "1141  1314414             1178  ...                 8                   2\n",
              "1142  1314415             1178  ...                 5                   2\n",
              "\n",
              "[1143 rows x 11 columns]"
            ]
          },
          "metadata": {
            "tags": []
          },
          "execution_count": 3
        }
      ]
    },
    {
      "cell_type": "code",
      "metadata": {
        "colab": {
          "base_uri": "https://localhost:8080/"
        },
        "id": "xSXbwB8NSuSG",
        "outputId": "1d9fe98d-1a5d-4321-922a-d79cba7c4b05"
      },
      "source": [
        "df['Total_Conversion'].sum()"
      ],
      "execution_count": null,
      "outputs": [
        {
          "output_type": "execute_result",
          "data": {
            "text/plain": [
              "3264"
            ]
          },
          "metadata": {
            "tags": []
          },
          "execution_count": 113
        }
      ]
    },
    {
      "cell_type": "code",
      "metadata": {
        "colab": {
          "base_uri": "https://localhost:8080/"
        },
        "id": "7kJxRfs9TJtj",
        "outputId": "bd065a88-d7a0-4c38-b3a7-f9583b02a85c"
      },
      "source": [
        "df['Approved_Conversion'].sum()"
      ],
      "execution_count": null,
      "outputs": [
        {
          "output_type": "execute_result",
          "data": {
            "text/plain": [
              "1079"
            ]
          },
          "metadata": {
            "tags": []
          },
          "execution_count": 114
        }
      ]
    },
    {
      "cell_type": "markdown",
      "metadata": {
        "id": "IGCShY7PESiu"
      },
      "source": [
        "Now lets see if there are any missing values."
      ]
    },
    {
      "cell_type": "code",
      "metadata": {
        "colab": {
          "base_uri": "https://localhost:8080/"
        },
        "id": "WWyXVC2art01",
        "outputId": "64f59144-7368-4d04-df7f-4a359fd2c101"
      },
      "source": [
        "def percent_missing(df):\r\n",
        "    data = pd.DataFrame(df)\r\n",
        "    df_cols = list(pd.DataFrame(data))\r\n",
        "    dict_x = {}\r\n",
        "    for i in range(0, len(df_cols)):\r\n",
        "        dict_x.update({df_cols[i]: round(data[df_cols[i]].isnull().mean()*100,2)})\r\n",
        "    \r\n",
        "    return dict_x\r\n",
        "\r\n",
        "missing = percent_missing(df)\r\n",
        "df_miss = sorted(missing.items(), key=lambda x: x[1], reverse=True)\r\n",
        "print('Percent of missing data')\r\n",
        "df_miss[0:10]"
      ],
      "execution_count": null,
      "outputs": [
        {
          "output_type": "stream",
          "text": [
            "Percent of missing data\n"
          ],
          "name": "stdout"
        },
        {
          "output_type": "execute_result",
          "data": {
            "text/plain": [
              "[('ad_id', 0.0),\n",
              " ('xyz_campaign_id', 0.0),\n",
              " ('fb_campaign_id', 0.0),\n",
              " ('age', 0.0),\n",
              " ('gender', 0.0),\n",
              " ('interest', 0.0),\n",
              " ('Impressions', 0.0),\n",
              " ('Clicks', 0.0),\n",
              " ('Spent', 0.0),\n",
              " ('Total_Conversion', 0.0)]"
            ]
          },
          "metadata": {
            "tags": []
          },
          "execution_count": 5
        }
      ]
    },
    {
      "cell_type": "markdown",
      "metadata": {
        "id": "_jPro_vDEhNG"
      },
      "source": [
        "**There are unique ad_id and fb_campaign_id for each entry so we can get rid of them as they don't provide any significant information.**"
      ]
    },
    {
      "cell_type": "code",
      "metadata": {
        "id": "RK0ZF-lyNWT4"
      },
      "source": [
        "df.drop(['fb_campaign_id', 'ad_id'], axis=1, inplace=True)"
      ],
      "execution_count": 4,
      "outputs": []
    },
    {
      "cell_type": "code",
      "metadata": {
        "colab": {
          "base_uri": "https://localhost:8080/",
          "height": 359
        },
        "id": "GmIWVofiNkpn",
        "outputId": "b7ac2629-9f1c-4692-fecb-bdeaec794fca"
      },
      "source": [
        "#lets check it\r\n",
        "df.head(10)"
      ],
      "execution_count": null,
      "outputs": [
        {
          "output_type": "execute_result",
          "data": {
            "text/html": [
              "<div>\n",
              "<style scoped>\n",
              "    .dataframe tbody tr th:only-of-type {\n",
              "        vertical-align: middle;\n",
              "    }\n",
              "\n",
              "    .dataframe tbody tr th {\n",
              "        vertical-align: top;\n",
              "    }\n",
              "\n",
              "    .dataframe thead th {\n",
              "        text-align: right;\n",
              "    }\n",
              "</style>\n",
              "<table border=\"1\" class=\"dataframe\">\n",
              "  <thead>\n",
              "    <tr style=\"text-align: right;\">\n",
              "      <th></th>\n",
              "      <th>ad_id</th>\n",
              "      <th>xyz_campaign_id</th>\n",
              "      <th>fb_campaign_id</th>\n",
              "      <th>age</th>\n",
              "      <th>gender</th>\n",
              "      <th>interest</th>\n",
              "      <th>Impressions</th>\n",
              "      <th>Clicks</th>\n",
              "      <th>Spent</th>\n",
              "      <th>Total_Conversion</th>\n",
              "      <th>Approved_Conversion</th>\n",
              "    </tr>\n",
              "  </thead>\n",
              "  <tbody>\n",
              "    <tr>\n",
              "      <th>0</th>\n",
              "      <td>708746</td>\n",
              "      <td>916</td>\n",
              "      <td>103916</td>\n",
              "      <td>a</td>\n",
              "      <td>0</td>\n",
              "      <td>15</td>\n",
              "      <td>7350</td>\n",
              "      <td>1</td>\n",
              "      <td>1.43</td>\n",
              "      <td>2</td>\n",
              "      <td>1</td>\n",
              "    </tr>\n",
              "    <tr>\n",
              "      <th>1</th>\n",
              "      <td>708749</td>\n",
              "      <td>916</td>\n",
              "      <td>103917</td>\n",
              "      <td>a</td>\n",
              "      <td>0</td>\n",
              "      <td>16</td>\n",
              "      <td>17861</td>\n",
              "      <td>2</td>\n",
              "      <td>1.82</td>\n",
              "      <td>2</td>\n",
              "      <td>0</td>\n",
              "    </tr>\n",
              "    <tr>\n",
              "      <th>2</th>\n",
              "      <td>708771</td>\n",
              "      <td>916</td>\n",
              "      <td>103920</td>\n",
              "      <td>a</td>\n",
              "      <td>0</td>\n",
              "      <td>20</td>\n",
              "      <td>693</td>\n",
              "      <td>0</td>\n",
              "      <td>0.00</td>\n",
              "      <td>1</td>\n",
              "      <td>0</td>\n",
              "    </tr>\n",
              "    <tr>\n",
              "      <th>3</th>\n",
              "      <td>708815</td>\n",
              "      <td>916</td>\n",
              "      <td>103928</td>\n",
              "      <td>a</td>\n",
              "      <td>0</td>\n",
              "      <td>28</td>\n",
              "      <td>4259</td>\n",
              "      <td>1</td>\n",
              "      <td>1.25</td>\n",
              "      <td>1</td>\n",
              "      <td>0</td>\n",
              "    </tr>\n",
              "    <tr>\n",
              "      <th>4</th>\n",
              "      <td>708818</td>\n",
              "      <td>916</td>\n",
              "      <td>103928</td>\n",
              "      <td>a</td>\n",
              "      <td>0</td>\n",
              "      <td>28</td>\n",
              "      <td>4133</td>\n",
              "      <td>1</td>\n",
              "      <td>1.29</td>\n",
              "      <td>1</td>\n",
              "      <td>1</td>\n",
              "    </tr>\n",
              "    <tr>\n",
              "      <th>5</th>\n",
              "      <td>708820</td>\n",
              "      <td>916</td>\n",
              "      <td>103929</td>\n",
              "      <td>a</td>\n",
              "      <td>0</td>\n",
              "      <td>29</td>\n",
              "      <td>1915</td>\n",
              "      <td>0</td>\n",
              "      <td>0.00</td>\n",
              "      <td>1</td>\n",
              "      <td>1</td>\n",
              "    </tr>\n",
              "    <tr>\n",
              "      <th>6</th>\n",
              "      <td>708889</td>\n",
              "      <td>916</td>\n",
              "      <td>103940</td>\n",
              "      <td>a</td>\n",
              "      <td>0</td>\n",
              "      <td>15</td>\n",
              "      <td>15615</td>\n",
              "      <td>3</td>\n",
              "      <td>4.77</td>\n",
              "      <td>1</td>\n",
              "      <td>0</td>\n",
              "    </tr>\n",
              "    <tr>\n",
              "      <th>7</th>\n",
              "      <td>708895</td>\n",
              "      <td>916</td>\n",
              "      <td>103941</td>\n",
              "      <td>a</td>\n",
              "      <td>0</td>\n",
              "      <td>16</td>\n",
              "      <td>10951</td>\n",
              "      <td>1</td>\n",
              "      <td>1.27</td>\n",
              "      <td>1</td>\n",
              "      <td>1</td>\n",
              "    </tr>\n",
              "    <tr>\n",
              "      <th>8</th>\n",
              "      <td>708953</td>\n",
              "      <td>916</td>\n",
              "      <td>103951</td>\n",
              "      <td>a</td>\n",
              "      <td>0</td>\n",
              "      <td>27</td>\n",
              "      <td>2355</td>\n",
              "      <td>1</td>\n",
              "      <td>1.50</td>\n",
              "      <td>1</td>\n",
              "      <td>0</td>\n",
              "    </tr>\n",
              "    <tr>\n",
              "      <th>9</th>\n",
              "      <td>708958</td>\n",
              "      <td>916</td>\n",
              "      <td>103952</td>\n",
              "      <td>a</td>\n",
              "      <td>0</td>\n",
              "      <td>28</td>\n",
              "      <td>9502</td>\n",
              "      <td>3</td>\n",
              "      <td>3.16</td>\n",
              "      <td>1</td>\n",
              "      <td>0</td>\n",
              "    </tr>\n",
              "  </tbody>\n",
              "</table>\n",
              "</div>"
            ],
            "text/plain": [
              "    ad_id  xyz_campaign_id  fb_campaign_id age  gender  interest  Impressions  \\\n",
              "0  708746              916          103916   a       0        15         7350   \n",
              "1  708749              916          103917   a       0        16        17861   \n",
              "2  708771              916          103920   a       0        20          693   \n",
              "3  708815              916          103928   a       0        28         4259   \n",
              "4  708818              916          103928   a       0        28         4133   \n",
              "5  708820              916          103929   a       0        29         1915   \n",
              "6  708889              916          103940   a       0        15        15615   \n",
              "7  708895              916          103941   a       0        16        10951   \n",
              "8  708953              916          103951   a       0        27         2355   \n",
              "9  708958              916          103952   a       0        28         9502   \n",
              "\n",
              "   Clicks  Spent  Total_Conversion  Approved_Conversion  \n",
              "0       1   1.43                 2                    1  \n",
              "1       2   1.82                 2                    0  \n",
              "2       0   0.00                 1                    0  \n",
              "3       1   1.25                 1                    0  \n",
              "4       1   1.29                 1                    1  \n",
              "5       0   0.00                 1                    1  \n",
              "6       3   4.77                 1                    0  \n",
              "7       1   1.27                 1                    1  \n",
              "8       1   1.50                 1                    0  \n",
              "9       3   3.16                 1                    0  "
            ]
          },
          "metadata": {
            "tags": []
          },
          "execution_count": 108
        }
      ]
    },
    {
      "cell_type": "code",
      "metadata": {
        "colab": {
          "base_uri": "https://localhost:8080/",
          "height": 1000
        },
        "id": "xK6RsWM8BBUY",
        "outputId": "bc0d0f2f-be2b-481e-ef5a-6804c67d1146"
      },
      "source": [
        "for i in ['Impressions', 'Clicks', 'Spent', 'Total_Conversion', 'Approved_Conversion']:\r\n",
        "  data = pd.concat([df[i], df['xyz_campaign_id']], axis=1)\r\n",
        "  f, ax = plt.subplots(figsize=(12, 10))\r\n",
        "  fig = sns.boxplot(x=\"xyz_campaign_id\", y=i, data=data);\r\n",
        "  plt.show() #this idea will not give us much insight because even though campaign_id 1178 has more approved_conversion than other tho it also had a lot of impresssions too."
      ],
      "execution_count": null,
      "outputs": [
        {
          "output_type": "display_data",
          "data": {
            "image/png": "[encoded data removed]",
            "text/plain": [
              "<Figure size 864x720 with 1 Axes>"
            ]
          },
          "metadata": {
            "tags": [],
            "needs_background": "light"
          }
        },
        {
          "output_type": "display_data",
          "data": {
            "image/png": "[encoded data removed]",
            "text/plain": [
              "<Figure size 864x720 with 1 Axes>"
            ]
          },
          "metadata": {
            "tags": [],
            "needs_background": "light"
          }
        },
        {
          "output_type": "display_data",
          "data": {
            "image/png": "[encoded data removed]",
            "text/plain": [
              "<Figure size 864x720 with 1 Axes>"
            ]
          },
          "metadata": {
            "tags": [],
            "needs_background": "light"
          }
        },
        {
          "output_type": "display_data",
          "data": {
            "image/png": "[encoded data removed]",
            "text/plain": [
              "<Figure size 864x720 with 1 Axes>"
            ]
          },
          "metadata": {
            "tags": [],
            "needs_background": "light"
          }
        },
        {
          "output_type": "display_data",
          "data": {
            "image/png": "[encoded data removed]",
            "text/plain": [
              "<Figure size 864x720 with 1 Axes>"
            ]
          },
          "metadata": {
            "tags": [],
            "needs_background": "light"
          }
        }
      ]
    },
    {
      "cell_type": "markdown",
      "metadata": {
        "id": "UnVC2vrMBIy1"
      },
      "source": [
        "**The above 4 box plots shows campaign 1178 has shown very husge no. of ads to even large no. of peoples compared to other two campaigns. but this does not shows that the campaign 1178 was more successful than other two. for that we need to dig deeper in each campaign individually. But before taht lets not ignore different interests.**"
      ]
    },
    {
      "cell_type": "markdown",
      "metadata": {
        "id": "kVYop3P7FEBI"
      },
      "source": [
        "# Now lets do analysis on how different types of interests are popular among the audiance. This will not infer any info about how the ad performed we are just checking the popularity of different types of interest ."
      ]
    },
    {
      "cell_type": "code",
      "metadata": {
        "id": "hLK3YErNOH0g",
        "colab": {
          "base_uri": "https://localhost:8080/",
          "height": 204
        },
        "outputId": "2193667a-0801-4990-90d2-521d8b9f999b"
      },
      "source": [
        "df.sort_values(['interest'], axis=0, inplace=True)\r\n",
        "df.head()"
      ],
      "execution_count": null,
      "outputs": [
        {
          "output_type": "execute_result",
          "data": {
            "text/html": [
              "<div>\n",
              "<style scoped>\n",
              "    .dataframe tbody tr th:only-of-type {\n",
              "        vertical-align: middle;\n",
              "    }\n",
              "\n",
              "    .dataframe tbody tr th {\n",
              "        vertical-align: top;\n",
              "    }\n",
              "\n",
              "    .dataframe thead th {\n",
              "        text-align: right;\n",
              "    }\n",
              "</style>\n",
              "<table border=\"1\" class=\"dataframe\">\n",
              "  <thead>\n",
              "    <tr style=\"text-align: right;\">\n",
              "      <th></th>\n",
              "      <th>xyz_campaign_id</th>\n",
              "      <th>gender</th>\n",
              "      <th>interest</th>\n",
              "      <th>Impressions</th>\n",
              "      <th>Clicks</th>\n",
              "      <th>Spent</th>\n",
              "      <th>Total_Conversion</th>\n",
              "      <th>Approved_Conversion</th>\n",
              "      <th>age_a</th>\n",
              "      <th>age_b</th>\n",
              "      <th>age_c</th>\n",
              "      <th>age_d</th>\n",
              "    </tr>\n",
              "  </thead>\n",
              "  <tbody>\n",
              "    <tr>\n",
              "      <th>0</th>\n",
              "      <td>1178</td>\n",
              "      <td>1</td>\n",
              "      <td>2</td>\n",
              "      <td>82455</td>\n",
              "      <td>15</td>\n",
              "      <td>22.050000</td>\n",
              "      <td>1</td>\n",
              "      <td>0</td>\n",
              "      <td>1</td>\n",
              "      <td>0</td>\n",
              "      <td>0</td>\n",
              "      <td>0</td>\n",
              "    </tr>\n",
              "    <tr>\n",
              "      <th>24</th>\n",
              "      <td>1178</td>\n",
              "      <td>0</td>\n",
              "      <td>2</td>\n",
              "      <td>63564</td>\n",
              "      <td>12</td>\n",
              "      <td>20.590000</td>\n",
              "      <td>2</td>\n",
              "      <td>0</td>\n",
              "      <td>0</td>\n",
              "      <td>1</td>\n",
              "      <td>0</td>\n",
              "      <td>0</td>\n",
              "    </tr>\n",
              "    <tr>\n",
              "      <th>23</th>\n",
              "      <td>936</td>\n",
              "      <td>0</td>\n",
              "      <td>2</td>\n",
              "      <td>3812</td>\n",
              "      <td>2</td>\n",
              "      <td>3.050000</td>\n",
              "      <td>1</td>\n",
              "      <td>0</td>\n",
              "      <td>0</td>\n",
              "      <td>0</td>\n",
              "      <td>1</td>\n",
              "      <td>0</td>\n",
              "    </tr>\n",
              "    <tr>\n",
              "      <th>22</th>\n",
              "      <td>936</td>\n",
              "      <td>0</td>\n",
              "      <td>2</td>\n",
              "      <td>2338</td>\n",
              "      <td>1</td>\n",
              "      <td>0.240000</td>\n",
              "      <td>1</td>\n",
              "      <td>0</td>\n",
              "      <td>1</td>\n",
              "      <td>0</td>\n",
              "      <td>0</td>\n",
              "      <td>0</td>\n",
              "    </tr>\n",
              "    <tr>\n",
              "      <th>21</th>\n",
              "      <td>1178</td>\n",
              "      <td>0</td>\n",
              "      <td>2</td>\n",
              "      <td>240123</td>\n",
              "      <td>38</td>\n",
              "      <td>65.670001</td>\n",
              "      <td>5</td>\n",
              "      <td>4</td>\n",
              "      <td>1</td>\n",
              "      <td>0</td>\n",
              "      <td>0</td>\n",
              "      <td>0</td>\n",
              "    </tr>\n",
              "  </tbody>\n",
              "</table>\n",
              "</div>"
            ],
            "text/plain": [
              "    xyz_campaign_id  gender  interest  Impressions  Clicks      Spent  \\\n",
              "0              1178       1         2        82455      15  22.050000   \n",
              "24             1178       0         2        63564      12  20.590000   \n",
              "23              936       0         2         3812       2   3.050000   \n",
              "22              936       0         2         2338       1   0.240000   \n",
              "21             1178       0         2       240123      38  65.670001   \n",
              "\n",
              "    Total_Conversion  Approved_Conversion  age_a  age_b  age_c  age_d  \n",
              "0                  1                    0      1      0      0      0  \n",
              "24                 2                    0      0      1      0      0  \n",
              "23                 1                    0      0      0      1      0  \n",
              "22                 1                    0      1      0      0      0  \n",
              "21                 5                    4      1      0      0      0  "
            ]
          },
          "metadata": {
            "tags": []
          },
          "execution_count": 103
        }
      ]
    },
    {
      "cell_type": "code",
      "metadata": {
        "colab": {
          "base_uri": "https://localhost:8080/",
          "height": 881
        },
        "id": "gYThtFs5FzZ-",
        "outputId": "62bf3cdd-4d7d-4655-bd9f-629e19c87047"
      },
      "source": [
        "data = pd.concat([df['Clicks'], df['interest']], axis=1)\r\n",
        "f, ax = plt.subplots(figsize=(20, 15))\r\n",
        "fig = sns.boxplot(x=df['interest'], y=df['Clicks'], data=data)\r\n",
        "fig.axis(ymin=0, ymax=300);"
      ],
      "execution_count": null,
      "outputs": [
        {
          "output_type": "display_data",
          "data": {
            "image/png": "[encoded data removed]",
            "text/plain": [
              "<Figure size 1440x1080 with 1 Axes>"
            ]
          },
          "metadata": {
            "tags": [],
            "needs_background": "light"
          }
        }
      ]
    },
    {
      "cell_type": "markdown",
      "metadata": {
        "id": "N5eLjsCXKKaq"
      },
      "source": [
        "**from above boxplot we can see that interests with code 100, 101, 106, 107 are very popular also we can see interest code 10,16,27,28,29,63 have many ouliers with high no. of clicks.**\r\n",
        "**as i said from this box plot we are not drawing conclusions about any particular ad thefore based on outliers we won't judge the popularity of a particular interest.**"
      ]
    },
    {
      "cell_type": "markdown",
      "metadata": {
        "id": "anWzF0dGLjnP"
      },
      "source": [
        "# Now lets analyse the data by comparing each type of campaign on the basis of different features"
      ]
    },
    {
      "cell_type": "code",
      "metadata": {
        "id": "pA4sVZxNaG84",
        "colab": {
          "base_uri": "https://localhost:8080/",
          "height": 173
        },
        "outputId": "5338a66b-673a-464e-b770-af6ec764ff68"
      },
      "source": [
        "df.sort_values(['xyz_campaign_id'], axis=0, inplace=True)\n",
        "f = {\n",
        "        'Clicks' : 'sum',\n",
        "        'Impressions' : 'sum',\n",
        "        'Spent' : 'sum',\n",
        "        'Total_Conversion' : 'sum',\n",
        "        'Approved_Conversion' : 'sum',\n",
        "}\n",
        "\n",
        "campaign_id_sum = df.groupby(['xyz_campaign_id'])\n",
        "v = campaign_id_sum.agg(f)\n",
        "v"
      ],
      "execution_count": null,
      "outputs": [
        {
          "output_type": "execute_result",
          "data": {
            "text/html": [
              "<div>\n",
              "<style scoped>\n",
              "    .dataframe tbody tr th:only-of-type {\n",
              "        vertical-align: middle;\n",
              "    }\n",
              "\n",
              "    .dataframe tbody tr th {\n",
              "        vertical-align: top;\n",
              "    }\n",
              "\n",
              "    .dataframe thead th {\n",
              "        text-align: right;\n",
              "    }\n",
              "</style>\n",
              "<table border=\"1\" class=\"dataframe\">\n",
              "  <thead>\n",
              "    <tr style=\"text-align: right;\">\n",
              "      <th></th>\n",
              "      <th>Clicks</th>\n",
              "      <th>Impressions</th>\n",
              "      <th>Spent</th>\n",
              "      <th>Total_Conversion</th>\n",
              "      <th>Approved_Conversion</th>\n",
              "    </tr>\n",
              "    <tr>\n",
              "      <th>xyz_campaign_id</th>\n",
              "      <th></th>\n",
              "      <th></th>\n",
              "      <th></th>\n",
              "      <th></th>\n",
              "      <th></th>\n",
              "    </tr>\n",
              "  </thead>\n",
              "  <tbody>\n",
              "    <tr>\n",
              "      <th>916</th>\n",
              "      <td>113</td>\n",
              "      <td>482925</td>\n",
              "      <td>149.710001</td>\n",
              "      <td>58</td>\n",
              "      <td>24</td>\n",
              "    </tr>\n",
              "    <tr>\n",
              "      <th>936</th>\n",
              "      <td>1984</td>\n",
              "      <td>8128187</td>\n",
              "      <td>2893.369999</td>\n",
              "      <td>537</td>\n",
              "      <td>183</td>\n",
              "    </tr>\n",
              "    <tr>\n",
              "      <th>1178</th>\n",
              "      <td>36068</td>\n",
              "      <td>204823716</td>\n",
              "      <td>55662.149959</td>\n",
              "      <td>2669</td>\n",
              "      <td>872</td>\n",
              "    </tr>\n",
              "  </tbody>\n",
              "</table>\n",
              "</div>"
            ],
            "text/plain": [
              "                 Clicks  Impressions         Spent  Total_Conversion  \\\n",
              "xyz_campaign_id                                                        \n",
              "916                 113       482925    149.710001                58   \n",
              "936                1984      8128187   2893.369999               537   \n",
              "1178              36068    204823716  55662.149959              2669   \n",
              "\n",
              "                 Approved_Conversion  \n",
              "xyz_campaign_id                       \n",
              "916                               24  \n",
              "936                              183  \n",
              "1178                             872  "
            ]
          },
          "metadata": {
            "tags": []
          },
          "execution_count": 81
        }
      ]
    },
    {
      "cell_type": "markdown",
      "metadata": {
        "id": "kPWzWlOvXkQ2"
      },
      "source": [
        "lets introduce more features"
      ]
    },
    {
      "cell_type": "code",
      "metadata": {
        "id": "ieRIguLce5MB",
        "colab": {
          "base_uri": "https://localhost:8080/",
          "height": 173
        },
        "outputId": "4b801ddf-3fe9-4f99-fed7-a767c87c5fcd"
      },
      "source": [
        "v.insert(5, 'AC/TC',v['Approved_Conversion']/v['Total_Conversion'], True)\n",
        "v.insert(6, 'AC/C',v['Approved_Conversion']/v['Clicks'], True)\n",
        "v.insert(7, 'AC/I', v['Approved_Conversion']/v['Impressions'], True)\n",
        "v.insert(8, 'AC/S', v['Approved_Conversion']/v['Spent'], True)\n",
        "v.insert(9, 'C/I',v['Clicks']/v['Impressions'], True)\n",
        "v"
      ],
      "execution_count": null,
      "outputs": [
        {
          "output_type": "execute_result",
          "data": {
            "text/html": [
              "<div>\n",
              "<style scoped>\n",
              "    .dataframe tbody tr th:only-of-type {\n",
              "        vertical-align: middle;\n",
              "    }\n",
              "\n",
              "    .dataframe tbody tr th {\n",
              "        vertical-align: top;\n",
              "    }\n",
              "\n",
              "    .dataframe thead th {\n",
              "        text-align: right;\n",
              "    }\n",
              "</style>\n",
              "<table border=\"1\" class=\"dataframe\">\n",
              "  <thead>\n",
              "    <tr style=\"text-align: right;\">\n",
              "      <th></th>\n",
              "      <th>Clicks</th>\n",
              "      <th>Impressions</th>\n",
              "      <th>Spent</th>\n",
              "      <th>Total_Conversion</th>\n",
              "      <th>Approved_Conversion</th>\n",
              "      <th>AC/TC</th>\n",
              "      <th>AC/C</th>\n",
              "      <th>AC/I</th>\n",
              "      <th>AC/S</th>\n",
              "      <th>C/I</th>\n",
              "    </tr>\n",
              "    <tr>\n",
              "      <th>xyz_campaign_id</th>\n",
              "      <th></th>\n",
              "      <th></th>\n",
              "      <th></th>\n",
              "      <th></th>\n",
              "      <th></th>\n",
              "      <th></th>\n",
              "      <th></th>\n",
              "      <th></th>\n",
              "      <th></th>\n",
              "      <th></th>\n",
              "    </tr>\n",
              "  </thead>\n",
              "  <tbody>\n",
              "    <tr>\n",
              "      <th>916</th>\n",
              "      <td>113</td>\n",
              "      <td>482925</td>\n",
              "      <td>149.710001</td>\n",
              "      <td>58</td>\n",
              "      <td>24</td>\n",
              "      <td>0.413793</td>\n",
              "      <td>0.212389</td>\n",
              "      <td>0.000050</td>\n",
              "      <td>0.160310</td>\n",
              "      <td>0.000234</td>\n",
              "    </tr>\n",
              "    <tr>\n",
              "      <th>936</th>\n",
              "      <td>1984</td>\n",
              "      <td>8128187</td>\n",
              "      <td>2893.369999</td>\n",
              "      <td>537</td>\n",
              "      <td>183</td>\n",
              "      <td>0.340782</td>\n",
              "      <td>0.092238</td>\n",
              "      <td>0.000023</td>\n",
              "      <td>0.063248</td>\n",
              "      <td>0.000244</td>\n",
              "    </tr>\n",
              "    <tr>\n",
              "      <th>1178</th>\n",
              "      <td>36068</td>\n",
              "      <td>204823716</td>\n",
              "      <td>55662.149959</td>\n",
              "      <td>2669</td>\n",
              "      <td>872</td>\n",
              "      <td>0.326714</td>\n",
              "      <td>0.024177</td>\n",
              "      <td>0.000004</td>\n",
              "      <td>0.015666</td>\n",
              "      <td>0.000176</td>\n",
              "    </tr>\n",
              "  </tbody>\n",
              "</table>\n",
              "</div>"
            ],
            "text/plain": [
              "                 Clicks  Impressions         Spent  Total_Conversion  \\\n",
              "xyz_campaign_id                                                        \n",
              "916                 113       482925    149.710001                58   \n",
              "936                1984      8128187   2893.369999               537   \n",
              "1178              36068    204823716  55662.149959              2669   \n",
              "\n",
              "                 Approved_Conversion     AC/TC      AC/C      AC/I      AC/S  \\\n",
              "xyz_campaign_id                                                                \n",
              "916                               24  0.413793  0.212389  0.000050  0.160310   \n",
              "936                              183  0.340782  0.092238  0.000023  0.063248   \n",
              "1178                             872  0.326714  0.024177  0.000004  0.015666   \n",
              "\n",
              "                      C/I  \n",
              "xyz_campaign_id            \n",
              "916              0.000234  \n",
              "936              0.000244  \n",
              "1178             0.000176  "
            ]
          },
          "metadata": {
            "tags": []
          },
          "execution_count": 82
        }
      ]
    },
    {
      "cell_type": "markdown",
      "metadata": {
        "id": "-TIyUSqATld4"
      },
      "source": [
        "Lets refer to plots for better understandings."
      ]
    },
    {
      "cell_type": "code",
      "metadata": {
        "colab": {
          "base_uri": "https://localhost:8080/",
          "height": 1000
        },
        "id": "VkqV4UgffyYr",
        "outputId": "8e6ed250-4db5-4f5e-ceeb-3e0bb56a0673"
      },
      "source": [
        "for i in ['AC/C',\t'AC/I',\t'AC/S',\t'C/I', 'AC/TC']:\n",
        "  fig = plt.figure()\n",
        "  ax = fig.add_axes([0,0,1,1])\n",
        "  campaign_id\t = ['916', '936', '1178']\n",
        "  ax.bar(campaign_id,v[i])\n",
        "  plt.ylabel('{}'.format(i), size=15,labelpad=12.5)\n",
        "  plt.xlabel('campaign', size=15, labelpad=12.5)\n",
        "plt.show()\n"
      ],
      "execution_count": null,
      "outputs": [
        {
          "output_type": "display_data",
          "data": {
            "image/png": "[encoded data removed]",
            "text/plain": [
              "<Figure size 432x288 with 1 Axes>"
            ]
          },
          "metadata": {
            "tags": [],
            "needs_background": "light"
          }
        },
        {
          "output_type": "display_data",
          "data": {
            "image/png": "[encoded data removed]",
            "text/plain": [
              "<Figure size 432x288 with 1 Axes>"
            ]
          },
          "metadata": {
            "tags": [],
            "needs_background": "light"
          }
        },
        {
          "output_type": "display_data",
          "data": {
            "image/png": "[encoded data removed]",
            "text/plain": [
              "<Figure size 432x288 with 1 Axes>"
            ]
          },
          "metadata": {
            "tags": [],
            "needs_background": "light"
          }
        },
        {
          "output_type": "display_data",
          "data": {
            "image/png": "[encoded data removed]",
            "text/plain": [
              "<Figure size 432x288 with 1 Axes>"
            ]
          },
          "metadata": {
            "tags": [],
            "needs_background": "light"
          }
        },
        {
          "output_type": "display_data",
          "data": {
            "image/png": "[encoded data removed]",
            "text/plain": [
              "<Figure size 432x288 with 1 Axes>"
            ]
          },
          "metadata": {
            "tags": [],
            "needs_background": "light"
          }
        }
      ]
    },
    {
      "cell_type": "markdown",
      "metadata": {
        "id": "epPwZqukUg1S"
      },
      "source": [
        "**Above five bar graps shows that campaign 916 was more succesfull and efficient than the other two irrespective of any particular age group or interest.**"
      ]
    },
    {
      "cell_type": "markdown",
      "metadata": {
        "id": "LpxLPPaaX2mC"
      },
      "source": [
        "## Lets see the various correlations b/w features and labels. \r\n",
        "\r\n"
      ]
    },
    {
      "cell_type": "code",
      "metadata": {
        "colab": {
          "base_uri": "https://localhost:8080/",
          "height": 906
        },
        "id": "EBYOHxCiEfBu",
        "outputId": "a5edfc7b-0b39-4bcb-b376-bf680b14c5bf"
      },
      "source": [
        "df_916 = df.loc[df['xyz_campaign_id'] == 916]\n",
        "df_916.groupby(['interest'])\n",
        "df['interest'].astype('string')\n",
        "df = pd.get_dummies(df).reset_index(drop=True)\n",
        "\n",
        "corr = df_916.corr()\n",
        "plt.subplots(figsize=(15,15))\n",
        "sns.heatmap(corr, vmax=0.9, cmap=\"Blues\", square=True)\n",
        "plt.title('heatmap of campaign 916')"
      ],
      "execution_count": null,
      "outputs": [
        {
          "output_type": "execute_result",
          "data": {
            "text/plain": [
              "Text(0.5, 1.0, 'heatmap of campaign 916')"
            ]
          },
          "metadata": {
            "tags": []
          },
          "execution_count": 111
        },
        {
          "output_type": "display_data",
          "data": {
            "image/png": "[encoded data removed]",
            "text/plain": [
              "<Figure size 1080x1080 with 2 Axes>"
            ]
          },
          "metadata": {
            "tags": [],
            "needs_background": "light"
          }
        }
      ]
    },
    {
      "cell_type": "markdown",
      "metadata": {
        "id": "uJWwNt7szV3t"
      },
      "source": [
        "**above heatmap shows the correlation betweet label(approved_conversion) and features. approved conversion does not correlate strongly with any of the features but mildly with total_conversion which was a bit expected.**"
      ]
    },
    {
      "cell_type": "code",
      "metadata": {
        "colab": {
          "base_uri": "https://localhost:8080/",
          "height": 906
        },
        "id": "HH0RLq8lKRPu",
        "outputId": "fafa1f9c-26e1-471d-a1e0-5701d023ad91"
      },
      "source": [
        "df_936 = df.loc[df['xyz_campaign_id'] == 936]\n",
        "df_936.sort_values(by='Approved_Conversion', ascending=False)\n",
        "corr = df_936.corr()\n",
        "plt.subplots(figsize=(15,15))\n",
        "sns.heatmap(corr, vmax=0.9, cmap=\"Blues\", square=True)\n",
        "plt.title('heatmap of campaign 936')"
      ],
      "execution_count": null,
      "outputs": [
        {
          "output_type": "execute_result",
          "data": {
            "text/plain": [
              "Text(0.5, 1.0, 'heatmap of campaign 936')"
            ]
          },
          "metadata": {
            "tags": []
          },
          "execution_count": 101
        },
        {
          "output_type": "display_data",
          "data": {
            "image/png": "[encoded data removed]",
            "text/plain": [
              "<Figure size 1080x1080 with 2 Axes>"
            ]
          },
          "metadata": {
            "tags": [],
            "needs_background": "light"
          }
        }
      ]
    },
    {
      "cell_type": "markdown",
      "metadata": {
        "id": "krZEccRQ02e6"
      },
      "source": [
        "**heatmap shows that approved conversion (label) correlates mildly with total conversion just like in the case of campaign_916.**"
      ]
    },
    {
      "cell_type": "code",
      "metadata": {
        "colab": {
          "base_uri": "https://localhost:8080/",
          "height": 906
        },
        "id": "O4LAdbUZNKvb",
        "outputId": "eeec3e31-c636-41bc-c176-405d394f19af"
      },
      "source": [
        "df_1178 = df.loc[df['xyz_campaign_id'] == 1178]\n",
        "df_1178.sort_values(by='Approved_Conversion', ascending=False)\n",
        "corr = df_1178.corr()\n",
        "plt.subplots(figsize=(15,15))\n",
        "sns.heatmap(corr, vmax=0.9, cmap=\"Blues\", square=True)\n",
        "plt.title('heatmap of campaign 1178')"
      ],
      "execution_count": null,
      "outputs": [
        {
          "output_type": "execute_result",
          "data": {
            "text/plain": [
              "Text(0.5, 1.0, 'heatmap of campaign 1178')"
            ]
          },
          "metadata": {
            "tags": []
          },
          "execution_count": 65
        },
        {
          "output_type": "display_data",
          "data": {
            "image/png": "[encoded data removed]",
            "text/plain": [
              "<Figure size 1080x1080 with 2 Axes>"
            ]
          },
          "metadata": {
            "tags": [],
            "needs_background": "light"
          }
        }
      ]
    },
    {
      "cell_type": "markdown",
      "metadata": {
        "id": "NNuIrcIA1_44"
      },
      "source": [
        "**in the above heatmap we can see approved conversions correlates with total_conversion very strongly and very first time shows any significant correlation with spent, clicks and impressions, which we were expecting but missing in the previous two campaigns. This might be due to the large no. of different ads shown in this campaign compared to previous two.**\r\n",
        "\r\n",
        "*significance: features like spent, click and impressions can't be ignored. *"
      ]
    },
    {
      "cell_type": "code",
      "metadata": {
        "colab": {
          "base_uri": "https://localhost:8080/",
          "height": 974
        },
        "id": "uo_AfnalfeQ3",
        "outputId": "f3750584-3e35-409d-9910-5f2617b2afc6"
      },
      "source": [
        "for d in [df_916, df_936, df_1178]:\r\n",
        "  df2 = d[['interest', 'Approved_Conversion']]\r\n",
        "  f = {\r\n",
        "      'Approved_Conversion' : 'sum'\r\n",
        "  }\r\n",
        "  campaign_id_sum = df2.groupby(['interest'])\r\n",
        "  v = campaign_id_sum.agg(f)\r\n",
        "  v.reset_index(inplace=True)\r\n",
        "  interests = v['interest'].astype('string')\r\n",
        "  approved_conversion = v['Approved_Conversion']\r\n",
        "  fig = plt.figure()\r\n",
        "  ax = fig.add_axes([0,0,2,1])\r\n",
        "  ax.bar(interests,approved_conversion, width=0.8)\r\n",
        "plt.show()"
      ],
      "execution_count": null,
      "outputs": [
        {
          "output_type": "display_data",
          "data": {
            "image/png": "[encoded data removed]",
            "text/plain": [
              "<Figure size 432x288 with 1 Axes>"
            ]
          },
          "metadata": {
            "tags": [],
            "needs_background": "light"
          }
        },
        {
          "output_type": "display_data",
          "data": {
            "image/png": "[encoded data removed]",
            "text/plain": [
              "<Figure size 432x288 with 1 Axes>"
            ]
          },
          "metadata": {
            "tags": [],
            "needs_background": "light"
          }
        },
        {
          "output_type": "display_data",
          "data": {
            "image/png": "[encoded data removed]",
            "text/plain": [
              "<Figure size 432x288 with 1 Axes>"
            ]
          },
          "metadata": {
            "tags": [],
            "needs_background": "light"
          }
        }
      ]
    },
    {
      "cell_type": "markdown",
      "metadata": {
        "id": "-IeGl8GD3BxO"
      },
      "source": [
        "**from the bar graph above we can see that campaign 916 was quiet successful in case of interest 15 and 16;  campaign 936 did great in the case of interests 10, 16 and 29; campaign 1178 did great in the case of interests 10, , 15, 16, 20, 27 and 29.**"
      ]
    },
    {
      "cell_type": "markdown",
      "metadata": {
        "id": "5hVRiVi4heoG"
      },
      "source": [
        "# we havent seen the effect of different age group on the succcess of an ad. so lets do that next."
      ]
    },
    {
      "cell_type": "code",
      "metadata": {
        "colab": {
          "base_uri": "https://localhost:8080/",
          "height": 409
        },
        "id": "K-6LIytYfAg4",
        "outputId": "d4f505fa-154b-430d-c3db-9d9a74ccdd8f"
      },
      "source": [
        "f, ax = plt.subplots(figsize=(25, 6))\r\n",
        "fig = sns.boxplot(y='Approved_Conversion', x='age',\r\n",
        "                 data=df, \r\n",
        "                 palette=\"colorblind\", \r\n",
        "                  hue='xyz_campaign_id') #'30-34': 'a', '35-39': 'b', '40-44' : 'c', '45-49' :'d\r\n",
        "fig.axis(ymin=0, ymax=10)"
      ],
      "execution_count": null,
      "outputs": [
        {
          "output_type": "execute_result",
          "data": {
            "text/plain": [
              "(-0.5, 3.5, 0.0, 10.0)"
            ]
          },
          "metadata": {
            "tags": []
          },
          "execution_count": 135
        },
        {
          "output_type": "display_data",
          "data": {
            "image/png": "[encoded data removed]",
            "text/plain": [
              "<Figure size 1800x432 with 1 Axes>"
            ]
          },
          "metadata": {
            "tags": [],
            "needs_background": "light"
          }
        }
      ]
    },
    {
      "cell_type": "code",
      "metadata": {
        "colab": {
          "base_uri": "https://localhost:8080/",
          "height": 409
        },
        "id": "DzGeNEpziGKk",
        "outputId": "5dabf907-3359-4ad6-95bb-fc2230cf71b1"
      },
      "source": [
        "f, ax = plt.subplots(figsize=(25, 6))\r\n",
        "fig = sns.boxplot(y='Clicks', x='age',\r\n",
        "                 data=df, \r\n",
        "                 palette=\"colorblind\", \r\n",
        "                  hue='xyz_campaign_id') #'30-34': 'a', '35-39': 'b', '40-44' : 'c', '45-49' :'d\r\n",
        "fig.axis(ymin=0, ymax=300)"
      ],
      "execution_count": 7,
      "outputs": [
        {
          "output_type": "execute_result",
          "data": {
            "text/plain": [
              "(-0.5, 3.5, 0.0, 300.0)"
            ]
          },
          "metadata": {
            "tags": []
          },
          "execution_count": 7
        },
        {
          "output_type": "display_data",
          "data": {
            "image/png": "[encoded data removed]",
            "text/plain": [
              "<Figure size 1800x432 with 1 Axes>"
            ]
          },
          "metadata": {
            "tags": [],
            "needs_background": "light"
          }
        }
      ]
    },
    {
      "cell_type": "markdown",
      "metadata": {
        "id": "exkG9jqqK1wN"
      },
      "source": [
        "key insights:\r\n",
        "\r\n",
        "*   campaign_916 was the most efficient one.\r\n",
        "*   ads shown to interest 16 in each campaign had most approved conversions.\r\n",
        "*   most people the ads were shown to were male.\r\n",
        "*   people from age group 45-49 were seen more interested in ads irrespective of the campaign_id\r\n",
        "*   but approved conversions see a somewhat constant trend throughout every group except the people of age 40-44 targeted by campaign 916.\r\n",
        "\r\n",
        "**other insights are added in between the various sections of code for step by step analysis.**\r\n",
        "\r\n",
        "\r\n",
        "\r\n",
        "\r\n",
        "\r\n",
        "> "
      ]
    }
  ]
}